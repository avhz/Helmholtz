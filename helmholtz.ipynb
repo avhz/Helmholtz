{
 "cells": [
  {
   "attachments": {},
   "cell_type": "markdown",
   "metadata": {},
   "source": [
    "# I. INTRODUCTION\n"
   ]
  },
  {
   "cell_type": "code",
   "execution_count": 2,
   "metadata": {},
   "outputs": [],
   "source": [
    "import math\n",
    "import numpy as np\n",
    "import scipy as sp\n",
    "import pandas as pd"
   ]
  },
  {
   "cell_type": "code",
   "execution_count": null,
   "metadata": {},
   "outputs": [],
   "source": [
    "class Helmholtz:\n",
    "    \"\"\"\n",
    "    Class for Helmholtz resonator array panel.\n",
    "\n",
    "    \"\n",
    "    We consider an infinite array panel that is \n",
    "    periodically arranged with a rectangular cell \n",
    "    containing a group of resonators, \n",
    "    which are not necessarily identical. \n",
    "    The size of the cell is Lx by Ly, \n",
    "    and its top surface is assumed to be \n",
    "    acoustically rigid, except for the circular \n",
    "    holes that correspond to the entrances of respective \n",
    "    resonators. We can place the resonators or orifices \n",
    "    at arbitrary positions within the cell area. \n",
    "    Here we assume that the radii of orifices are very small \n",
    "    compared to the wavelength of interest and that the \n",
    "    air layer in the opening moves with uniform \n",
    "    velocity so that it can be regarded as a plane piston.\n",
    "    \"\n",
    "\n",
    "    \"\"\"\n",
    "\n",
    "    def __init__(self, Lx, Ly):\n",
    "        self.Lx = Lx\n",
    "        self.Ly = Ly"
   ]
  },
  {
   "attachments": {},
   "cell_type": "markdown",
   "metadata": {},
   "source": [
    "# II. THEORETICAL ANALYSIS\n",
    "\n",
    "\n",
    "## A. Description of system\n",
    "\n",
    "A plane wave $p_e = P_e e^{-j(k_x x + k_y y - k_z z)}$:"
   ]
  },
  {
   "cell_type": "code",
   "execution_count": null,
   "metadata": {},
   "outputs": [],
   "source": [
    "def p_e(P, j, x, y, z, kx, ky, kz):\n",
    "    return P * math.exp(-j*( kx * x + ky * y - kz * z))"
   ]
  },
  {
   "attachments": {},
   "cell_type": "markdown",
   "metadata": {},
   "source": [
    "## B. Absorption coefficient of Helmholtz resonator array panel\n",
    "\n"
   ]
  },
  {
   "attachments": {},
   "cell_type": "markdown",
   "metadata": {},
   "source": [
    "# III. EXPERIMENTAL VERIFICATIONS"
   ]
  },
  {
   "attachments": {},
   "cell_type": "markdown",
   "metadata": {},
   "source": [
    "# IV. CONCLUSIONS"
   ]
  }
 ],
 "metadata": {
  "kernelspec": {
   "display_name": "Python 3",
   "language": "python",
   "name": "python3"
  },
  "language_info": {
   "codemirror_mode": {
    "name": "ipython",
    "version": 3
   },
   "file_extension": ".py",
   "mimetype": "text/x-python",
   "name": "python",
   "nbconvert_exporter": "python",
   "pygments_lexer": "ipython3",
   "version": "3.11.3"
  },
  "orig_nbformat": 4
 },
 "nbformat": 4,
 "nbformat_minor": 2
}
